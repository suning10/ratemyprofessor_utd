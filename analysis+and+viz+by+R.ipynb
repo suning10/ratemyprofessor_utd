{
 "cells": [
  {
   "cell_type": "code",
   "execution_count": 1,
   "metadata": {
    "collapsed": false
   },
   "outputs": [
    {
     "name": "stderr",
     "output_type": "stream",
     "text": [
      "Warning message:\n",
      "\"package 'RMySQL' was built under R version 3.3.2\"Loading required package: DBI\n"
     ]
    }
   ],
   "source": [
    "library(RMySQL)"
   ]
  },
  {
   "cell_type": "code",
   "execution_count": 2,
   "metadata": {
    "collapsed": true
   },
   "outputs": [],
   "source": [
    "mydb<-dbConnect(MySQL(),user='root',password='bryant718',dbname='lang_qin',host='127.0.0.1')"
   ]
  },
  {
   "cell_type": "code",
   "execution_count": 3,
   "metadata": {
    "collapsed": true
   },
   "outputs": [],
   "source": [
    "query_1<-dbSendQuery(mydb,'select name as name, score as score,hard as hardness, hotness as hot from pro_rate')\n"
   ]
  },
  {
   "cell_type": "code",
   "execution_count": 4,
   "metadata": {
    "collapsed": true
   },
   "outputs": [],
   "source": [
    "dat_1<-fetch(query_1,n=-1)"
   ]
  },
  {
   "cell_type": "code",
   "execution_count": 5,
   "metadata": {
    "collapsed": true
   },
   "outputs": [],
   "source": [
    "query_2<-dbSendQuery(mydb,'select substring(name,1,instr(name,\",\")-1) as lastname,dept_name from dept_1')"
   ]
  },
  {
   "cell_type": "code",
   "execution_count": 6,
   "metadata": {
    "collapsed": true
   },
   "outputs": [],
   "source": [
    "dat_2<-fetch(query_2,n=-1)"
   ]
  },
  {
   "cell_type": "code",
   "execution_count": 7,
   "metadata": {
    "collapsed": true
   },
   "outputs": [],
   "source": [
    "df<-merge(dat_2,dat_1,by.x = \"lastname\",by.y = 'name',all.x = T)"
   ]
  },
  {
   "cell_type": "code",
   "execution_count": 8,
   "metadata": {
    "collapsed": true
   },
   "outputs": [],
   "source": [
    "# plot the data frame to take a look at the insight of the data by using ggplot"
   ]
  },
  {
   "cell_type": "code",
   "execution_count": 9,
   "metadata": {
    "collapsed": false
   },
   "outputs": [
    {
     "name": "stderr",
     "output_type": "stream",
     "text": [
      "\n",
      "Attaching package: 'plotly'\n",
      "\n",
      "The following object is masked from 'package:ggplot2':\n",
      "\n",
      "    last_plot\n",
      "\n",
      "The following object is masked from 'package:stats':\n",
      "\n",
      "    filter\n",
      "\n",
      "The following object is masked from 'package:graphics':\n",
      "\n",
      "    layout\n",
      "\n"
     ]
    }
   ],
   "source": [
    "library(ggplot2)\n",
    "library(plotly)"
   ]
  },
  {
   "cell_type": "code",
   "execution_count": 10,
   "metadata": {
    "collapsed": false
   },
   "outputs": [
    {
     "name": "stderr",
     "output_type": "stream",
     "text": [
      "Warning message:\n",
      "\"package 'fastmatch' was built under R version 3.3.2\""
     ]
    }
   ],
   "source": [
    "library(fastmatch)"
   ]
  },
  {
   "cell_type": "code",
   "execution_count": 11,
   "metadata": {
    "collapsed": false
   },
   "outputs": [
    {
     "data": {
      "text/html": [
       "<table>\n",
       "<thead><tr><th scope=col>lastname</th><th scope=col>dept_name</th><th scope=col>score</th><th scope=col>hardness</th><th scope=col>hot</th></tr></thead>\n",
       "<tbody>\n",
       "\t<tr><td>Aaron                           </td><td>Math                            </td><td>2.9                             </td><td>3.3                             </td><td>/assets/chilis/cold-chili.png   </td></tr>\n",
       "\t<tr><td>Abdi                            </td><td>Medical                         </td><td>4.6                             </td><td>3.8                             </td><td>/assets/chilis/new-hot-chili.png</td></tr>\n",
       "\t<tr><td>Acharya                         </td><td>Engineer                        </td><td>1.4                             </td><td>4.0                             </td><td>/assets/chilis/cold-chili.png   </td></tr>\n",
       "\t<tr><td>Ackerman                        </td><td>Medical                         </td><td>4.3                             </td><td>2.9                             </td><td>/assets/chilis/cold-chili.png   </td></tr>\n",
       "\t<tr><td>Acosta                          </td><td>Math                            </td><td>4.5                             </td><td>2.0                             </td><td>/assets/chilis/cold-chili.png   </td></tr>\n",
       "\t<tr><td>Adams                           </td><td>Society                         </td><td>4.0                             </td><td>3.5                             </td><td>/assets/chilis/new-hot-chili.png</td></tr>\n",
       "</tbody>\n",
       "</table>\n"
      ],
      "text/latex": [
       "\\begin{tabular}{r|lllll}\n",
       " lastname & dept\\_name & score & hardness & hot\\\\\n",
       "\\hline\n",
       "\t Aaron                            & Math                             & 2.9                              & 3.3                              & /assets/chilis/cold-chili.png   \\\\\n",
       "\t Abdi                             & Medical                          & 4.6                              & 3.8                              & /assets/chilis/new-hot-chili.png\\\\\n",
       "\t Acharya                          & Engineer                         & 1.4                              & 4.0                              & /assets/chilis/cold-chili.png   \\\\\n",
       "\t Ackerman                         & Medical                          & 4.3                              & 2.9                              & /assets/chilis/cold-chili.png   \\\\\n",
       "\t Acosta                           & Math                             & 4.5                              & 2.0                              & /assets/chilis/cold-chili.png   \\\\\n",
       "\t Adams                            & Society                          & 4.0                              & 3.5                              & /assets/chilis/new-hot-chili.png\\\\\n",
       "\\end{tabular}\n"
      ],
      "text/plain": [
       "  lastname dept_name score hardness hot                             \n",
       "1 Aaron    Math      2.9   3.3      /assets/chilis/cold-chili.png   \n",
       "2 Abdi     Medical   4.6   3.8      /assets/chilis/new-hot-chili.png\n",
       "3 Acharya  Engineer  1.4   4.0      /assets/chilis/cold-chili.png   \n",
       "4 Ackerman Medical   4.3   2.9      /assets/chilis/cold-chili.png   \n",
       "5 Acosta   Math      4.5   2.0      /assets/chilis/cold-chili.png   \n",
       "6 Adams    Society   4.0   3.5      /assets/chilis/new-hot-chili.png"
      ]
     },
     "metadata": {},
     "output_type": "display_data"
    }
   ],
   "source": [
    "head(df)"
   ]
  },
  {
   "cell_type": "code",
   "execution_count": 12,
   "metadata": {
    "collapsed": true
   },
   "outputs": [],
   "source": [
    "vec<-df$hot"
   ]
  },
  {
   "cell_type": "code",
   "execution_count": 14,
   "metadata": {
    "collapsed": true
   },
   "outputs": [],
   "source": [
    "dvec<-as.factor(vec)"
   ]
  },
  {
   "cell_type": "code",
   "execution_count": 15,
   "metadata": {
    "collapsed": true
   },
   "outputs": [],
   "source": [
    "hotness<-fmatch(dvec,c('/assets/chilis/cold-chili.png','/assets/chilis/new-hot-chili.png'))"
   ]
  },
  {
   "cell_type": "code",
   "execution_count": 16,
   "metadata": {
    "collapsed": true
   },
   "outputs": [],
   "source": [
    "df$hotness<-hotness"
   ]
  },
  {
   "cell_type": "code",
   "execution_count": 17,
   "metadata": {
    "collapsed": false
   },
   "outputs": [
    {
     "data": {
      "text/html": [
       "<table>\n",
       "<thead><tr><th scope=col>lastname</th><th scope=col>dept_name</th><th scope=col>score</th><th scope=col>hardness</th><th scope=col>hot</th><th scope=col>hotness</th></tr></thead>\n",
       "<tbody>\n",
       "\t<tr><td>Aaron                           </td><td>Math                            </td><td>2.9                             </td><td>3.3                             </td><td>/assets/chilis/cold-chili.png   </td><td>1                               </td></tr>\n",
       "\t<tr><td>Abdi                            </td><td>Medical                         </td><td>4.6                             </td><td>3.8                             </td><td>/assets/chilis/new-hot-chili.png</td><td>2                               </td></tr>\n",
       "\t<tr><td>Acharya                         </td><td>Engineer                        </td><td>1.4                             </td><td>4.0                             </td><td>/assets/chilis/cold-chili.png   </td><td>1                               </td></tr>\n",
       "\t<tr><td>Ackerman                        </td><td>Medical                         </td><td>4.3                             </td><td>2.9                             </td><td>/assets/chilis/cold-chili.png   </td><td>1                               </td></tr>\n",
       "\t<tr><td>Acosta                          </td><td>Math                            </td><td>4.5                             </td><td>2.0                             </td><td>/assets/chilis/cold-chili.png   </td><td>1                               </td></tr>\n",
       "\t<tr><td>Adams                           </td><td>Society                         </td><td>4.0                             </td><td>3.5                             </td><td>/assets/chilis/new-hot-chili.png</td><td>2                               </td></tr>\n",
       "</tbody>\n",
       "</table>\n"
      ],
      "text/latex": [
       "\\begin{tabular}{r|llllll}\n",
       " lastname & dept\\_name & score & hardness & hot & hotness\\\\\n",
       "\\hline\n",
       "\t Aaron                            & Math                             & 2.9                              & 3.3                              & /assets/chilis/cold-chili.png    & 1                               \\\\\n",
       "\t Abdi                             & Medical                          & 4.6                              & 3.8                              & /assets/chilis/new-hot-chili.png & 2                               \\\\\n",
       "\t Acharya                          & Engineer                         & 1.4                              & 4.0                              & /assets/chilis/cold-chili.png    & 1                               \\\\\n",
       "\t Ackerman                         & Medical                          & 4.3                              & 2.9                              & /assets/chilis/cold-chili.png    & 1                               \\\\\n",
       "\t Acosta                           & Math                             & 4.5                              & 2.0                              & /assets/chilis/cold-chili.png    & 1                               \\\\\n",
       "\t Adams                            & Society                          & 4.0                              & 3.5                              & /assets/chilis/new-hot-chili.png & 2                               \\\\\n",
       "\\end{tabular}\n"
      ],
      "text/plain": [
       "  lastname dept_name score hardness hot                              hotness\n",
       "1 Aaron    Math      2.9   3.3      /assets/chilis/cold-chili.png    1      \n",
       "2 Abdi     Medical   4.6   3.8      /assets/chilis/new-hot-chili.png 2      \n",
       "3 Acharya  Engineer  1.4   4.0      /assets/chilis/cold-chili.png    1      \n",
       "4 Ackerman Medical   4.3   2.9      /assets/chilis/cold-chili.png    1      \n",
       "5 Acosta   Math      4.5   2.0      /assets/chilis/cold-chili.png    1      \n",
       "6 Adams    Society   4.0   3.5      /assets/chilis/new-hot-chili.png 2      "
      ]
     },
     "metadata": {},
     "output_type": "display_data"
    }
   ],
   "source": [
    "head(df)"
   ]
  },
  {
   "cell_type": "code",
   "execution_count": 18,
   "metadata": {
    "collapsed": false
   },
   "outputs": [
    {
     "name": "stderr",
     "output_type": "stream",
     "text": [
      "`stat_bin()` using `bins = 30`. Pick better value with `binwidth`.\n",
      "Warning message:\n",
      "\"Removed 137 rows containing non-finite values (stat_bin).\""
     ]
    },
    {
     "data": {},
     "metadata": {},
     "output_type": "display_data"
    },
    {
     "data": {
      "image/png": "[encoded data removed]",
      "text/plain": [
       "plot without title"
      ]
     },
     "metadata": {},
     "output_type": "display_data"
    }
   ],
   "source": [
    "# histogram of score and hardness \n",
    "p1<-ggplot(df,aes(x=score))\n",
    "p1+geom_histogram(color='white',fill='blue')"
   ]
  },
  {
   "cell_type": "code",
   "execution_count": 20,
   "metadata": {
    "collapsed": false
   },
   "outputs": [
    {
     "name": "stderr",
     "output_type": "stream",
     "text": [
      "`stat_bin()` using `bins = 30`. Pick better value with `binwidth`.\n",
      "Warning message:\n",
      "\"Removed 137 rows containing non-finite values (stat_bin).\""
     ]
    },
    {
     "data": {},
     "metadata": {},
     "output_type": "display_data"
    },
    {
     "data": {
      "image/png": "[encoded data removed]",
      "text/plain": [
       "plot without title"
      ]
     },
     "metadata": {},
     "output_type": "display_data"
    }
   ],
   "source": [
    "#histogram of score and hardness for different department\n",
    "p4<-ggplot(df,aes(x=score,fill=dept_name))\n",
    "p4+geom_histogram(position = 'dodge')"
   ]
  },
  {
   "cell_type": "code",
   "execution_count": 24,
   "metadata": {
    "collapsed": false
   },
   "outputs": [
    {
     "name": "stderr",
     "output_type": "stream",
     "text": [
      "Warning message:\n",
      "\"Removed 137 rows containing missing values (position_stack).\""
     ]
    },
    {
     "data": {},
     "metadata": {},
     "output_type": "display_data"
    },
    {
     "name": "stderr",
     "output_type": "stream",
     "text": [
      "No trace type specified:\n",
      "  Based on info supplied, a 'bar' trace seems appropriate.\n",
      "  Read more about this trace type -> https://plot.ly/r/reference/#bar\n",
      "Warning message:\n",
      "\"Ignoring 137 observations\""
     ]
    },
    {
     "data": {
      "text/plain": [
       "HTML widgets cannot be represented in plain text (need html)"
      ]
     },
     "metadata": {},
     "output_type": "display_data"
    },
    {
     "data": {
      "image/png": "[encoded data removed]",
      "text/plain": [
       "plot without title"
      ]
     },
     "metadata": {},
     "output_type": "display_data"
    }
   ],
   "source": [
    "# barchart showing the score and hardness of different department\n",
    "p2<-ggplot(df,aes(x=dept_name,y=score))\n",
    "p2+geom_bar(stat = 'identity')\n",
    "plot_ly(df,x= ~dept_name, y = ~score,text= ~paste(\"dept_name: \", dept_name))\n"
   ]
  },
  {
   "cell_type": "code",
   "execution_count": 26,
   "metadata": {
    "collapsed": false
   },
   "outputs": [
    {
     "name": "stderr",
     "output_type": "stream",
     "text": [
      "Warning message:\n",
      "\"Removed 137 rows containing missing values (position_stack).\""
     ]
    },
    {
     "data": {},
     "metadata": {},
     "output_type": "display_data"
    },
    {
     "name": "stderr",
     "output_type": "stream",
     "text": [
      "No trace type specified:\n",
      "  Based on info supplied, a 'histogram2d' trace seems appropriate.\n",
      "  Read more about this trace type -> https://plot.ly/r/reference/#histogram2d\n",
      "Warning message:\n",
      "\"Ignoring 137 observations\"Warning message:\n",
      "\"'histogram2d' objects don't have these attributes: 'text'\n",
      "Valid attributes include:\n",
      "'type', 'visible', 'showlegend', 'legendgroup', 'opacity', 'name', 'uid', 'hoverinfo', 'stream', 'x', 'y', 'z', 'marker', 'histnorm', 'histfunc', 'autobinx', 'nbinsx', 'xbins', 'autobiny', 'nbinsy', 'ybins', 'zsmooth', 'colorbar', 'zauto', 'zmin', 'zmax', 'colorscale', 'autocolorscale', 'reversescale', 'showscale', 'xaxis', 'yaxis', 'xsrc', 'ysrc', 'zsrc', 'key'\n",
      "\""
     ]
    },
    {
     "data": {
      "text/plain": [
       "HTML widgets cannot be represented in plain text (need html)"
      ]
     },
     "metadata": {},
     "output_type": "display_data"
    },
    {
     "data": {
      "image/png": "[encoded data removed]",
      "text/plain": [
       "plot without title"
      ]
     },
     "metadata": {},
     "output_type": "display_data"
    }
   ],
   "source": [
    "p5<-ggplot(df,aes(x=dept_name,y=hardness))\n",
    "p5+geom_bar(stat = 'identity')\n",
    "plot_ly(df,x= ~dept_name, y = ~hardness,text= ~paste(\"dept_name: \", dept_name))"
   ]
  },
  {
   "cell_type": "code",
   "execution_count": 28,
   "metadata": {
    "collapsed": false
   },
   "outputs": [
    {
     "name": "stderr",
     "output_type": "stream",
     "text": [
      "Warning message:\n",
      "\"Removed 137 rows containing non-finite values (stat_smooth).\"Warning message:\n",
      "\"Removed 137 rows containing non-finite values (stat_smooth).\"Warning message:\n",
      "\"Removed 137 rows containing missing values (geom_point).\""
     ]
    },
    {
     "data": {},
     "metadata": {},
     "output_type": "display_data"
    },
    {
     "data": {
      "image/png": "[encoded data removed]",
      "text/plain": [
       "plot without title"
      ]
     },
     "metadata": {},
     "output_type": "display_data"
    }
   ],
   "source": [
    "# scatter plot to see the relation ship between rate and hardness\n",
    "p6<-ggplot(df,aes(x=hardness,y=score))\n",
    "p6+geom_point(color='skyblue')+geom_smooth()+\n",
    "  geom_smooth(method='lm',color='red')"
   ]
  },
  {
   "cell_type": "code",
   "execution_count": 29,
   "metadata": {
    "collapsed": false
   },
   "outputs": [
    {
     "name": "stderr",
     "output_type": "stream",
     "text": [
      "Warning message:\n",
      "\"Removed 137 rows containing missing values (geom_point).\""
     ]
    },
    {
     "data": {},
     "metadata": {},
     "output_type": "display_data"
    },
    {
     "data": {
      "image/png": "[encoded data removed]",
      "text/plain": [
       "plot without title"
      ]
     },
     "metadata": {},
     "output_type": "display_data"
    }
   ],
   "source": [
    "#bubble chart\n",
    "p7<-ggplot(df,aes(x=hardness,y=score,size=hotness,color=dept_name))\n",
    "p7+geom_point()"
   ]
  },
  {
   "cell_type": "code",
   "execution_count": 30,
   "metadata": {
    "collapsed": false
   },
   "outputs": [
    {
     "data": {},
     "metadata": {},
     "output_type": "display_data"
    },
    {
     "data": {
      "image/png": "[encoded data removed]",
      "text/plain": [
       "plot without title"
      ]
     },
     "metadata": {},
     "output_type": "display_data"
    }
   ],
   "source": [
    "#hotness affect?\n",
    "cold<-subset(df,hotness==1)\n",
    "hot<-subset(df,hotness==2)\n",
    "p7<-ggplot(cold,aes(x=as.numeric(hardness),y=score))\n",
    "p7+geom_point(color='red')+geom_smooth(method='lm',se=F)+\n",
    "  geom_point(data=hot,aes(x=as.numeric(hardness),y=score))+\n",
    "  geom_smooth(data=hot,aes(x=as.numeric(hardness),y=score),se=F,method = 'lm',color='yellow')\n",
    "#for professor with less hotness, score decrease more significantly as hardness goes up"
   ]
  },
  {
   "cell_type": "code",
   "execution_count": 32,
   "metadata": {
    "collapsed": true
   },
   "outputs": [],
   "source": [
    "sdf<-data.frame(df$score,as.numeric(df$hardness))\n",
    "names(sdf)<-c('score','hardness')\n",
    "sdf$score<-scale(sdf$score)\n",
    "sdf$hardness<-scale(sdf$hardness)"
   ]
  },
  {
   "cell_type": "code",
   "execution_count": 33,
   "metadata": {
    "collapsed": true
   },
   "outputs": [],
   "source": [
    "#dig into the data\n",
    "#cluster:\n",
    "for(i in 1:ncol(sdf)){\n",
    "  sdf[is.na(sdf[,i]), i] <- mean(sdf[,i], na.rm = TRUE)\n",
    "}\n",
    "#sub the na to mean"
   ]
  },
  {
   "cell_type": "code",
   "execution_count": 34,
   "metadata": {
    "collapsed": false
   },
   "outputs": [
    {
     "data": {
      "image/png": "[encoded data removed]",
      "text/plain": [
       "plot without title"
      ]
     },
     "metadata": {},
     "output_type": "display_data"
    }
   ],
   "source": [
    "#number of clusters best fit\n",
    "wss <- (nrow(sdf)-1)*sum(apply(sdf,2,var))\n",
    "for (i in 1:10) wss[i] <- sum(kmeans(sdf, centers=i)$withinss)\n",
    "plot(1:10, wss, type=\"b\", xlab=\"Number of Clusters\",\n",
    "     ylab=\"Within groups sum of squares\")\n",
    "#plot the wss for best #of clusters"
   ]
  },
  {
   "cell_type": "code",
   "execution_count": 35,
   "metadata": {
    "collapsed": false
   },
   "outputs": [
    {
     "data": {
      "text/plain": [
       "K-means clustering with 4 clusters of sizes 327, 412, 671, 288\n",
       "\n",
       "Cluster means:\n",
       "       score   hardness\n",
       "1 -1.3365777  1.1593508\n",
       "2  0.9039141 -1.1109010\n",
       "3  0.3613620  0.3290117\n",
       "4 -0.6174501 -0.4936922\n",
       "\n",
       "Clustering vector:\n",
       "   [1] 4 3 1 3 2 3 1 4 3 1 1 1 4 1 3 3 2 2 4 3 3 2 2 2 2 3 3 2 4 2 2 3 2 1 2 3 1\n",
       "  [38] 3 3 3 3 3 3 3 3 3 3 4 3 2 3 2 1 3 3 3 2 4 2 3 2 3 2 1 4 3 3 2 2 3 4 1 1 2\n",
       "  [75] 3 2 2 2 1 3 3 3 3 3 1 4 3 4 1 4 3 4 4 2 4 2 1 1 1 2 4 2 1 1 4 2 3 1 2 3 3\n",
       " [112] 3 4 3 3 2 2 2 2 2 3 1 3 3 4 3 1 1 3 1 1 1 3 4 1 4 3 3 2 2 2 2 2 3 1 1 4 3\n",
       " [149] 2 1 3 2 3 1 1 2 3 3 1 3 3 1 2 3 4 3 3 1 3 3 4 1 1 2 1 3 2 3 2 3 1 2 3 3 3\n",
       " [186] 3 3 3 3 1 2 1 3 3 3 3 4 3 2 4 3 4 2 2 2 1 1 2 1 3 1 2 4 3 4 1 2 3 1 1 1 1\n",
       " [223] 2 2 1 3 2 3 3 3 3 2 3 3 1 2 1 3 3 1 3 1 3 3 3 3 3 3 2 2 1 1 1 1 4 4 4 4 4\n",
       " [260] 4 1 2 1 1 2 1 1 1 1 3 3 2 4 4 1 1 3 3 4 3 3 1 3 3 2 4 4 3 3 3 3 1 3 3 2 3\n",
       " [297] 3 4 3 3 2 2 1 4 3 2 2 1 2 3 3 2 3 1 4 2 1 1 2 4 2 3 2 4 2 2 3 3 1 4 4 3 1\n",
       " [334] 2 3 3 1 3 3 3 3 3 1 3 4 4 4 2 2 1 1 3 1 1 3 2 2 4 3 1 1 2 2 1 2 3 3 2 4 4\n",
       " [371] 3 3 1 3 3 2 2 3 2 3 2 3 1 3 2 3 2 2 2 2 4 2 3 1 2 3 4 2 3 3 3 4 2 3 3 3 3\n",
       " [408] 2 3 2 3 1 1 1 2 1 1 3 4 3 3 3 1 3 2 4 4 4 1 2 2 2 2 3 1 2 2 3 4 1 4 2 2 4\n",
       " [445] 3 3 3 3 2 2 2 3 3 1 4 1 2 2 2 3 4 3 3 2 1 1 2 3 2 2 3 3 2 2 3 1 4 3 3 3 4\n",
       " [482] 2 3 1 1 3 1 3 3 2 3 3 3 1 3 4 1 3 3 3 2 3 3 3 4 3 2 3 1 2 2 1 4 4 2 3 3 2\n",
       " [519] 3 2 1 3 3 3 2 2 3 1 2 3 1 3 2 1 3 3 1 3 4 1 3 2 3 1 3 2 3 4 4 1 1 1 1 3 3\n",
       " [556] 4 1 3 3 3 3 4 4 3 2 2 2 3 1 1 2 3 3 2 3 4 3 3 3 4 1 4 3 2 4 1 2 2 3 3 4 4\n",
       " [593] 4 3 3 4 3 4 3 3 3 3 2 2 3 1 4 3 3 2 3 4 2 3 3 4 1 3 1 4 4 4 2 2 3 3 3 2 3\n",
       " [630] 4 3 3 3 1 1 1 1 2 2 1 1 2 3 2 3 3 2 2 3 3 4 4 3 3 4 3 1 1 1 2 2 2 3 4 3 3\n",
       " [667] 1 4 4 3 2 3 3 4 4 3 2 4 3 3 3 1 3 2 2 2 3 2 3 3 3 3 2 3 4 4 3 3 3 2 2 1 1\n",
       " [704] 1 4 3 4 4 4 2 2 3 3 3 2 3 2 2 2 2 2 4 3 3 3 2 2 3 4 3 3 2 3 3 2 4 4 3 3 3\n",
       " [741] 1 1 1 2 4 4 4 3 3 1 1 1 3 2 4 3 2 3 3 3 3 2 1 4 4 4 4 4 3 2 1 2 3 1 3 1 1\n",
       " [778] 1 1 1 1 1 3 3 4 4 2 4 4 3 4 3 3 1 2 1 3 4 1 3 2 2 3 2 1 2 2 3 1 3 2 2 3 3\n",
       " [815] 2 4 2 2 2 3 4 3 4 1 3 1 2 3 4 2 2 2 2 2 3 3 1 3 2 4 4 1 1 4 1 2 2 3 1 3 1\n",
       " [852] 3 4 4 4 4 4 4 4 4 4 4 4 4 4 4 1 2 2 1 1 1 4 3 3 3 4 4 4 4 4 4 4 4 4 4 3 3\n",
       " [889] 3 3 2 3 2 1 1 1 1 2 4 3 1 1 1 1 1 1 1 1 3 3 3 3 3 1 1 2 2 3 3 3 4 2 3 3 3\n",
       " [926] 3 3 3 2 1 2 3 1 1 3 3 4 1 2 4 3 1 1 2 1 3 1 3 3 3 2 4 3 4 3 1 3 2 2 3 2 3\n",
       " [963] 2 2 3 1 1 3 2 3 3 3 4 2 3 2 4 1 4 1 3 3 3 3 3 3 1 2 1 4 4 4 3 1 2 4 1 1 2\n",
       "[1000] 1 3 1 2 1 4 2 3 2 3 4 3 3 3 3 3 3 3 3 3 3 3 3 3 2 3 1 2 3 1 1 3 2 3 2 3 3\n",
       "[1037] 4 1 3 4 1 3 3 3 3 4 4 2 1 3 3 1 2 3 3 1 4 2 1 3 3 4 4 4 3 2 3 3 3 3 1 3 3\n",
       "[1074] 4 4 3 1 2 3 1 2 4 4 4 2 3 3 1 2 3 4 4 2 2 2 2 2 1 2 2 3 1 1 1 1 1 3 3 2 3\n",
       "[1111] 1 2 1 3 1 3 3 4 2 3 3 2 2 1 4 3 1 3 3 1 3 4 3 3 2 2 3 4 3 3 3 3 3 1 3 2 3\n",
       "[1148] 3 3 3 3 2 2 2 2 3 1 3 3 2 3 3 2 2 2 1 3 3 3 4 2 2 2 3 3 2 1 4 3 3 3 3 2 2\n",
       "[1185] 2 1 1 3 4 2 2 2 3 2 1 2 2 3 3 3 1 2 1 4 2 2 2 3 3 3 3 2 2 2 3 1 4 4 3 4 4\n",
       "[1222] 2 1 4 2 2 3 1 1 1 3 3 3 2 3 3 3 3 1 3 2 2 3 3 1 2 1 1 1 3 1 3 3 1 1 2 3 1\n",
       "[1259] 2 1 1 3 1 1 4 3 2 2 2 3 1 3 2 3 3 4 4 4 2 2 2 2 2 2 2 3 3 3 1 3 4 3 3 3 4\n",
       "[1296] 2 3 3 4 2 2 2 1 4 1 1 2 3 4 2 2 3 3 3 3 3 3 3 3 3 3 3 2 2 4 1 4 3 3 1 1 3\n",
       "[1333] 2 2 1 3 3 3 1 2 2 3 1 4 3 3 3 1 2 3 2 2 2 4 2 3 2 3 3 3 3 3 3 3 3 2 4 4 4\n",
       "[1370] 2 3 2 2 2 1 4 3 2 3 1 1 4 1 3 2 3 3 4 1 1 3 3 4 2 4 2 2 1 2 3 4 3 4 3 2 2\n",
       "[1407] 3 3 3 3 3 3 3 3 4 4 3 1 1 3 2 1 1 3 3 1 3 3 3 3 3 3 1 1 2 3 4 2 2 1 2 3 3\n",
       "[1444] 3 2 3 3 3 3 4 3 2 1 2 3 3 4 3 3 4 3 2 2 2 2 2 2 1 2 4 4 3 1 2 4 4 3 4 3 1\n",
       "[1481] 3 3 3 3 2 3 4 1 3 3 3 3 3 3 3 3 3 3 3 4 2 3 2 2 1 3 1 1 3 2 3 1 1 1 4 2 2\n",
       "[1518] 4 3 3 3 4 2 3 3 4 1 3 2 2 3 2 4 3 4 4 2 2 2 2 3 3 1 3 3 2 4 1 1 3 2 3 4 2\n",
       "[1555] 3 1 1 3 4 4 2 2 2 2 2 1 4 4 4 4 4 4 4 3 3 3 2 4 3 3 3 3 4 3 3 3 3 1 1 2 2\n",
       "[1592] 3 3 3 3 3 2 3 3 2 2 3 2 2 2 3 3 1 4 4 3 3 3 3 4 3 3 4 3 4 3 1 1 2 2 3 3 3\n",
       "[1629] 3 3 3 3 2 2 4 1 1 4 1 3 3 2 3 2 1 2 1 2 3 3 3 1 3 3 2 2 3 4 2 4 2 2 2 4 4\n",
       "[1666] 4 4 4 4 4 4 4 4 4 4 4 4 4 4 3 3 4 4 4 3 1 1 1 1 1 1 4 2 3 4 3 1 2\n",
       "\n",
       "Within cluster sum of squares by cluster:\n",
       "[1] 238.5975 162.4813 357.3049 152.6039\n",
       " (between_SS / total_SS =  70.8 %)\n",
       "\n",
       "Available components:\n",
       "\n",
       "[1] \"cluster\"      \"centers\"      \"totss\"        \"withinss\"     \"tot.withinss\"\n",
       "[6] \"betweenss\"    \"size\"         \"iter\"         \"ifault\"      "
      ]
     },
     "metadata": {},
     "output_type": "display_data"
    }
   ],
   "source": [
    "cluster_1 <-kmeans(sdf[,c(1,2)],4) \n",
    "cluster_1\n",
    "#with a bss/tss =71%\n",
    "#pamk"
   ]
  },
  {
   "cell_type": "code",
   "execution_count": 37,
   "metadata": {
    "collapsed": false
   },
   "outputs": [
    {
     "data": {
      "image/png": "[encoded data removed]",
      "text/plain": [
       "plot without title"
      ]
     },
     "metadata": {},
     "output_type": "display_data"
    }
   ],
   "source": [
    "#plot the first cluster\n",
    "\n",
    "plot(sdf[cluster_1[['cluster']]==1,c(1,2)])"
   ]
  },
  {
   "cell_type": "code",
   "execution_count": 38,
   "metadata": {
    "collapsed": true
   },
   "outputs": [],
   "source": [
    "#regression \n",
    "#convert hotness to dummy variable\n",
    "dummy_df<-within(df,hotness<-relevel(as.factor(hotness),\"1\"))"
   ]
  },
  {
   "cell_type": "code",
   "execution_count": 39,
   "metadata": {
    "collapsed": false
   },
   "outputs": [
    {
     "data": {
      "text/plain": [
       "\n",
       "Call:\n",
       "lm(formula = as.numeric(df$hardness) ~ df$score)\n",
       "\n",
       "Residuals:\n",
       "     Min       1Q   Median       3Q      Max \n",
       "-3.10822 -0.64212  0.03246  0.57822  2.72228 \n",
       "\n",
       "Coefficients:\n",
       "            Estimate Std. Error t value Pr(>|t|)    \n",
       "(Intercept)  4.56584    0.07938   57.52   <2e-16 ***\n",
       "df$score    -0.45763    0.02098  -21.82   <2e-16 ***\n",
       "---\n",
       "Signif. codes:  0 '***' 0.001 '**' 0.01 '*' 0.05 '.' 0.1 ' ' 1\n",
       "\n",
       "Residual standard error: 0.847 on 1559 degrees of freedom\n",
       "  (137 observations deleted due to missingness)\n",
       "Multiple R-squared:  0.2339,\tAdjusted R-squared:  0.2334 \n",
       "F-statistic: 475.9 on 1 and 1559 DF,  p-value: < 2.2e-16\n"
      ]
     },
     "metadata": {},
     "output_type": "display_data"
    }
   ],
   "source": [
    "#simply look at hardness and score\n",
    "l1<-lm(as.numeric(df$hardness)~df$score)\n",
    "summary(l1)\n",
    "#p<2e-16, significant y = -0.46 x, however only 23% x are releated"
   ]
  },
  {
   "cell_type": "code",
   "execution_count": 40,
   "metadata": {
    "collapsed": false
   },
   "outputs": [
    {
     "data": {
      "text/plain": [
       "\n",
       "Call:\n",
       "lm(formula = as.numeric(dummy_df$score) ~ dummy_df$hotness, data = dummy_df)\n",
       "\n",
       "Residuals:\n",
       "    Min      1Q  Median      3Q     Max \n",
       "-3.2986 -0.5986  0.1014  0.7014  1.5591 \n",
       "\n",
       "Coefficients:\n",
       "                  Estimate Std. Error t value Pr(>|t|)    \n",
       "(Intercept)        3.44094    0.02767  124.35   <2e-16 ***\n",
       "dummy_df$hotness2  0.85771    0.05691   15.07   <2e-16 ***\n",
       "---\n",
       "Signif. codes:  0 '***' 0.001 '**' 0.01 '*' 0.05 '.' 0.1 ' ' 1\n",
       "\n",
       "Residual standard error: 0.9554 on 1559 degrees of freedom\n",
       "  (137 observations deleted due to missingness)\n",
       "Multiple R-squared:  0.1272,\tAdjusted R-squared:  0.1266 \n",
       "F-statistic: 227.1 on 1 and 1559 DF,  p-value: < 2.2e-16\n"
      ]
     },
     "metadata": {},
     "output_type": "display_data"
    }
   ],
   "source": [
    "#run lm by using hotness of 1(cold) as reference\n",
    "l2<-lm(as.numeric(dummy_df$score)~dummy_df$hotness,dummy_df)\n",
    "summary(l2)\n",
    "#estimate is 0.86 and p value is less than 0.01\n",
    "#hotness will have a positive impact on score, and only 12% can be explained"
   ]
  },
  {
   "cell_type": "code",
   "execution_count": 41,
   "metadata": {
    "collapsed": false
   },
   "outputs": [
    {
     "data": {
      "text/plain": [
       "\n",
       "Call:\n",
       "lm(formula = as.numeric(dummy_df$score) ~ dummy_df$dept_name, \n",
       "    data = dummy_df)\n",
       "\n",
       "Residuals:\n",
       "    Min      1Q  Median      3Q     Max \n",
       "-2.8908 -0.6098  0.1092  0.8092  1.6632 \n",
       "\n",
       "Coefficients:\n",
       "                                  Estimate Std. Error t value Pr(>|t|)    \n",
       "(Intercept)                        3.83037    0.08616  44.455  < 2e-16 ***\n",
       "dummy_df$dept_nameBusiness        -0.23102    0.09802  -2.357 0.018548 *  \n",
       "dummy_df$dept_nameEngineer        -0.49356    0.10339  -4.774 1.98e-06 ***\n",
       "dummy_df$dept_nameMath            -0.47824    0.13448  -3.556 0.000388 ***\n",
       "dummy_df$dept_nameMedical         -0.02059    0.11345  -0.181 0.856022    \n",
       "dummy_df$dept_namenot spcified    -0.46370    0.30157  -1.538 0.124339    \n",
       "dummy_df$dept_nameSociety          0.06042    0.10070   0.600 0.548613    \n",
       "dummy_df$dept_nameWomen's Studies -1.83037    1.00481  -1.822 0.068708 .  \n",
       "---\n",
       "Signif. codes:  0 '***' 0.001 '**' 0.01 '*' 0.05 '.' 0.1 ' ' 1\n",
       "\n",
       "Residual standard error: 1.001 on 1553 degrees of freedom\n",
       "  (137 observations deleted due to missingness)\n",
       "Multiple R-squared:  0.04523,\tAdjusted R-squared:  0.04093 \n",
       "F-statistic: 10.51 on 7 and 1553 DF,  p-value: 5.819e-13\n"
      ]
     },
     "metadata": {},
     "output_type": "display_data"
    }
   ],
   "source": [
    "#department\n",
    "l4<-lm(as.numeric(dummy_df$score)~dummy_df$dept_name,dummy_df)\n",
    "summary(l4)"
   ]
  },
  {
   "cell_type": "code",
   "execution_count": 42,
   "metadata": {
    "collapsed": false
   },
   "outputs": [
    {
     "data": {
      "text/plain": [
       "\n",
       "Call:\n",
       "lm(formula = dummy_df$score ~ dummy_df$dept_name + dummy_df$hotness)\n",
       "\n",
       "Residuals:\n",
       "    Min      1Q  Median      3Q     Max \n",
       "-3.4591 -0.6109  0.1212  0.6390  1.8249 \n",
       "\n",
       "Coefficients:\n",
       "                               Estimate Std. Error t value Pr(>|t|)    \n",
       "(Intercept)                     1.16786    0.93901   1.244  0.21379    \n",
       "dummy_df$dept_nameArt           2.45910    0.94175   2.611  0.00911 ** \n",
       "dummy_df$dept_nameBusiness      2.22662    0.93930   2.371  0.01789 *  \n",
       "dummy_df$dept_nameEngineer      2.03342    0.94003   2.163  0.03068 *  \n",
       "dummy_df$dept_nameMath          2.00722    0.94334   2.128  0.03351 *  \n",
       "dummy_df$dept_nameMedical       2.39318    0.94069   2.544  0.01105 *  \n",
       "dummy_df$dept_namenot spcified  1.99077    0.97651   2.039  0.04165 *  \n",
       "dummy_df$dept_nameSociety       2.51094    0.93953   2.673  0.00761 ** \n",
       "dummy_df$hotness2               0.83214    0.05616  14.818  < 2e-16 ***\n",
       "---\n",
       "Signif. codes:  0 '***' 0.001 '**' 0.01 '*' 0.05 '.' 0.1 ' ' 1\n",
       "\n",
       "Residual standard error: 0.9373 on 1552 degrees of freedom\n",
       "  (137 observations deleted due to missingness)\n",
       "Multiple R-squared:  0.1636,\tAdjusted R-squared:  0.1593 \n",
       "F-statistic: 37.94 on 8 and 1552 DF,  p-value: < 2.2e-16\n"
      ]
     },
     "metadata": {},
     "output_type": "display_data"
    }
   ],
   "source": [
    "#rule out all the possible difference between department, hotness\n",
    "dummy_df$dept_name<-relevel(as.factor(dummy_df$dept_name),\"Women's Studies\")\n",
    "l3<-lm(dummy_df$score~dummy_df$dept_name+dummy_df$hotness)\n",
    "summary(l3)"
   ]
  },
  {
   "cell_type": "code",
   "execution_count": 43,
   "metadata": {
    "collapsed": true
   },
   "outputs": [],
   "source": [
    "# we use hotness as 1 which is cold and women's studies as ref, it shows that, for\n",
    "#department, changing from business to women's studies have the most effect on the\n",
    "#score, whereas not specified group has the least effect, which have a difference \n",
    "#from only consider department\n",
    "#for hotness, changing from hot to cold will have a 0.83 increase on socre, it is\n",
    "#slightly different from only consider hotness."
   ]
  },
  {
   "cell_type": "code",
   "execution_count": 47,
   "metadata": {
    "collapsed": false
   },
   "outputs": [
    {
     "data": {
      "text/plain": [
       "\n",
       "Call:\n",
       "lm(formula = dummy_df$score ~ dummy_df$dept_name + dummy_df$hotness + \n",
       "    log(as.numeric(dummy_df$hardness)), data = dummy_df)\n",
       "\n",
       "Residuals:\n",
       "    Min      1Q  Median      3Q     Max \n",
       "-3.6867 -0.5244  0.0592  0.5710  2.3429 \n",
       "\n",
       "Coefficients:\n",
       "                                   Estimate Std. Error t value Pr(>|t|)    \n",
       "(Intercept)                         2.98507    0.85889   3.475 0.000524 ***\n",
       "dummy_df$dept_nameArt               1.60994    0.85681   1.879 0.060432 .  \n",
       "dummy_df$dept_nameBusiness          1.49976    0.85425   1.756 0.079344 .  \n",
       "dummy_df$dept_nameEngineer          1.36750    0.85475   1.600 0.109830    \n",
       "dummy_df$dept_nameMath              1.35782    0.85772   1.583 0.113610    \n",
       "dummy_df$dept_nameMedical           1.69450    0.85544   1.981 0.047784 *  \n",
       "dummy_df$dept_namenot spcified      1.34507    0.88782   1.515 0.129971    \n",
       "dummy_df$dept_nameSociety           1.70165    0.85468   1.991 0.046658 *  \n",
       "dummy_df$hotness2                   0.71039    0.05146  13.806  < 2e-16 ***\n",
       "log(as.numeric(dummy_df$hardness)) -1.05345    0.05803 -18.154  < 2e-16 ***\n",
       "---\n",
       "Signif. codes:  0 '***' 0.001 '**' 0.01 '*' 0.05 '.' 0.1 ' ' 1\n",
       "\n",
       "Residual standard error: 0.8515 on 1551 degrees of freedom\n",
       "  (137 observations deleted due to missingness)\n",
       "Multiple R-squared:  0.3102,\tAdjusted R-squared:  0.3062 \n",
       "F-statistic: 77.48 on 9 and 1551 DF,  p-value: < 2.2e-16\n"
      ]
     },
     "metadata": {},
     "output_type": "display_data"
    }
   ],
   "source": [
    "#Add hardness into account\n",
    "l5<-lm(dummy_df$score~dummy_df$dept_name+dummy_df$hotness+log(as.numeric(dummy_df$hardness)),dummy_df)\n",
    "summary(l5)"
   ]
  },
  {
   "cell_type": "code",
   "execution_count": 48,
   "metadata": {
    "collapsed": true
   },
   "outputs": [],
   "source": [
    "#as we can see from the result log(hardness) have a negative effect on score\n",
    "#note we take log(hardness) here"
   ]
  },
  {
   "cell_type": "code",
   "execution_count": 45,
   "metadata": {
    "collapsed": false
   },
   "outputs": [
    {
     "data": {
      "text/plain": [
       "\n",
       "Call:\n",
       "lm(formula = dummy_df$score ~ dummy_df$hotness + dummy_df$dept_name + \n",
       "    dummy_df$hotness * dummy_df$dept_name)\n",
       "\n",
       "Residuals:\n",
       "    Min      1Q  Median      3Q     Max \n",
       "-3.3576 -0.6144  0.1451  0.6451  1.9176 \n",
       "\n",
       "Coefficients: (1 not defined because of singularities)\n",
       "                                                 Estimate Std. Error t value\n",
       "(Intercept)                                      1.313872   0.942689   1.394\n",
       "dummy_df$hotness2                                0.686128   0.111834   6.135\n",
       "dummy_df$dept_nameArt                            2.345932   0.947234   2.477\n",
       "dummy_df$dept_nameBusiness                       2.038729   0.944031   2.160\n",
       "dummy_df$dept_nameEngineer                       1.900525   0.944495   2.012\n",
       "dummy_df$dept_nameMath                           1.768560   0.948948   1.864\n",
       "dummy_df$dept_nameMedical                        2.290004   0.946284   2.420\n",
       "dummy_df$dept_namenot spcified                   1.719461   0.992981   1.732\n",
       "dummy_df$dept_nameSociety                        2.402128   0.940997   2.553\n",
       "dummy_df$hotness2:dummy_df$dept_nameArt          0.011644   0.218281   0.053\n",
       "dummy_df$hotness2:dummy_df$dept_nameBusiness     0.316138   0.150972   2.094\n",
       "dummy_df$hotness2:dummy_df$dept_nameEngineer     0.065475   0.182864   0.358\n",
       "dummy_df$hotness2:dummy_df$dept_nameMath         0.581440   0.261064   2.227\n",
       "dummy_df$hotness2:dummy_df$dept_nameMedical      0.002724   0.187693   0.015\n",
       "dummy_df$hotness2:dummy_df$dept_namenot spcified 0.647206   0.633963   1.021\n",
       "dummy_df$hotness2:dummy_df$dept_nameSociety            NA         NA      NA\n",
       "                                                 Pr(>|t|)    \n",
       "(Intercept)                                        0.1636    \n",
       "dummy_df$hotness2                                1.08e-09 ***\n",
       "dummy_df$dept_nameArt                              0.0134 *  \n",
       "dummy_df$dept_nameBusiness                         0.0310 *  \n",
       "dummy_df$dept_nameEngineer                         0.0444 *  \n",
       "dummy_df$dept_nameMath                             0.0626 .  \n",
       "dummy_df$dept_nameMedical                          0.0156 *  \n",
       "dummy_df$dept_namenot spcified                     0.0835 .  \n",
       "dummy_df$dept_nameSociety                          0.0108 *  \n",
       "dummy_df$hotness2:dummy_df$dept_nameArt            0.9575    \n",
       "dummy_df$hotness2:dummy_df$dept_nameBusiness       0.0364 *  \n",
       "dummy_df$hotness2:dummy_df$dept_nameEngineer       0.7204    \n",
       "dummy_df$hotness2:dummy_df$dept_nameMath           0.0261 *  \n",
       "dummy_df$hotness2:dummy_df$dept_nameMedical        0.9884    \n",
       "dummy_df$hotness2:dummy_df$dept_namenot spcified   0.3075    \n",
       "dummy_df$hotness2:dummy_df$dept_nameSociety            NA    \n",
       "---\n",
       "Signif. codes:  0 '***' 0.001 '**' 0.01 '*' 0.05 '.' 0.1 ' ' 1\n",
       "\n",
       "Residual standard error: 0.936 on 1546 degrees of freedom\n",
       "  (137 observations deleted due to missingness)\n",
       "Multiple R-squared:  0.1691,\tAdjusted R-squared:  0.1616 \n",
       "F-statistic: 22.47 on 14 and 1546 DF,  p-value: < 2.2e-16\n"
      ]
     },
     "metadata": {},
     "output_type": "display_data"
    }
   ],
   "source": [
    "#add interaction \n",
    "l6<-lm(dummy_df$score~dummy_df$hotness+dummy_df$dept_name+dummy_df$hotness * dummy_df$dept_name)\n",
    "summary(l6)"
   ]
  },
  {
   "cell_type": "code",
   "execution_count": 46,
   "metadata": {
    "collapsed": true
   },
   "outputs": [],
   "source": [
    "#to interpret\n",
    "#women's study and hotness of 1 as reference\n",
    "#take for example, dummy_df$hotness2:dummy_df$dept_nameMath\n",
    "#the estimate is 0.58 meaning the it will have a postive effect of hotness on score\n",
    "#when changing from women's study to math"
   ]
  },
  {
   "cell_type": "code",
   "execution_count": null,
   "metadata": {
    "collapsed": true
   },
   "outputs": [],
   "source": []
  }
 ],
 "metadata": {
  "kernelspec": {
   "display_name": "R 3.3",
   "language": "R",
   "name": "ir33"
  },
  "language_info": {
   "codemirror_mode": "r",
   "file_extension": ".r",
   "mimetype": "text/x-r-source",
   "name": "R",
   "pygments_lexer": "r",
   "version": "3.3.1"
  }
 },
 "nbformat": 4,
 "nbformat_minor": 1
}
